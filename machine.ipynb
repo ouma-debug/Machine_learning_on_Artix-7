import tensorflow as tf
from tensorflow import keras
import numpy as np
import os  # Import the 'os' module

(X_train, y_train), (X_test, y_test) = keras.datasets.mnist.load_data()

# Normalize the pixel values to be between 0 and 1
X_train = X_train / 255
X_test = X_test / 255

model = keras.Sequential([
    keras.layers.Flatten(input_shape=(28, 28)),
    keras.layers.Dense(100, activation='relu'),
    keras.layers.Dense(50, activation='relu'),  # Added an additional dense layer
    keras.layers.Dense(10, activation='sigmoid')
])

model.compile(optimizer='adam',
              loss='sparse_categorical_crossentropy',
              metrics=['accuracy'])

model.fit(X_train, y_train, epochs=10)

model.evaluate(X_test, y_test)

# Save weights to text files
for i, layer in enumerate(model.layers):
    # Check if the layer has weights
    if layer.get_weights():
        # Create a directory to store weights
        layer_name = f"layer_{i + 1}"
        weights_dir = f"./{layer_name}_weights/"
        os.makedirs(weights_dir, exist_ok=True)

        # Save weights to a text file
        weights_file = f"{weights_dir}{layer_name}_weights.txt"
        np.savetxt(weights_file, layer.get_weights()[0], delimiter=',', fmt='%f')

        print(f"Weights for {layer_name} saved to: {weights_file}")
    else:
        print(f"No weights to save for {layer_name}")
